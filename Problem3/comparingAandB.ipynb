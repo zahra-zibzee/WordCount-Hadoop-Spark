{
 "cells": [
  {
   "cell_type": "code",
   "execution_count": 8,
   "metadata": {},
   "outputs": [
    {
     "name": "stdout",
     "output_type": "stream",
     "text": [
      "The differences have been saved to differencesAB.csv\n"
     ]
    }
   ],
   "source": [
    "import pandas as pd\n",
    "from pathlib import Path\n",
    "\n",
    "# Paths to the directories containing the CSV files\n",
    "part_a_dir = Path('./PARTA-output')\n",
    "part_b_dir = Path('./PARTB-output')\n",
    "\n",
    "# Find all CSV files in each directory\n",
    "part_a_files = part_a_dir.glob('*.csv')\n",
    "part_b_files = part_b_dir.glob('*.csv')\n",
    "\n",
    "# Read the CSV files into DataFrames\n",
    "df_a = pd.concat([pd.read_csv(file) for file in part_a_files])\n",
    "df_b = pd.concat([pd.read_csv(file) for file in part_b_files])\n",
    "\n",
    "# Ensure that 'LastName' column exists in both DataFrames\n",
    "df_a.reset_index(drop=True, inplace=True)\n",
    "df_b.reset_index(drop=True, inplace=True)\n",
    "\n",
    "# Ensure that 'LastName' column exists in both DataFrames\n",
    "if 'LastName' in df_a.columns and 'LastName' in df_b.columns:\n",
    "    # Remove duplicate values in the 'LastName' column\n",
    "    df_a.drop_duplicates(subset='LastName', inplace=True)\n",
    "    df_b.drop_duplicates(subset='LastName', inplace=True)\n",
    "\n",
    "    # Set 'LastName' as the index for both DataFrames\n",
    "    df_a.set_index('LastName', inplace=True)\n",
    "    df_b.set_index('LastName', inplace=True)\n",
    "\n",
    "    # Find the difference between the two DataFrames\n",
    "    diff = pd.concat([df_a, df_b], axis='columns', keys=['PARTA', 'PARTB'], sort=False)\n",
    "    diff = diff[diff.isnull().any(axis=1)]  # Filter out rows that are the same in both\n",
    "\n",
    "    # Save the differences to a new CSV file\n",
    "    diff.to_csv('differencesAB.csv')\n",
    "    print('The differences have been saved to differencesAB.csv')\n",
    "else:\n",
    "    print('Error: The column \"LastName\" was not found in both DataFrames.')\n"
   ]
  }
 ],
 "metadata": {
  "kernelspec": {
   "display_name": "Python 3",
   "language": "python",
   "name": "python3"
  },
  "language_info": {
   "codemirror_mode": {
    "name": "ipython",
    "version": 3
   },
   "file_extension": ".py",
   "mimetype": "text/x-python",
   "name": "python",
   "nbconvert_exporter": "python",
   "pygments_lexer": "ipython3",
   "version": "3.10.14"
  }
 },
 "nbformat": 4,
 "nbformat_minor": 2
}
